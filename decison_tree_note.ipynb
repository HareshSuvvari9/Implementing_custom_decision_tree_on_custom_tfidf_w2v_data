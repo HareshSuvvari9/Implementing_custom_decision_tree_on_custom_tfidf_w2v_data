{
 "cells": [
  {
   "cell_type": "markdown",
   "metadata": {
    "colab_type": "text",
    "id": "CjA-ZU-TqVK1"
   },
   "source": [
    "<font color='red'><b> TF-IDFW2V</b></font>"
   ]
  },
  {
   "cell_type": "markdown",
   "metadata": {
    "colab_type": "text",
    "id": "uvBr2z6iqW9V"
   },
   "source": [
    "<b>Tfidf w2v (w1,w2..) = (tfidf(w1) * w2v(w1) + tfidf(w2) * w2v(w2) + …)  /    (tfidf(w1) + tfidf(w2) + …)</b>"
   ]
  },
  {
   "cell_type": "code",
   "execution_count": 45,
   "metadata": {
    "colab": {},
    "colab_type": "code",
    "id": "_ufHLoACuoHw"
   },
   "outputs": [],
   "source": [
    "#loading glove vectors.\n",
    "import pickle\n",
    "with open('glove_vectors', 'rb') as f:\n",
    "    model = pickle.load(f)\n",
    "    glove_words =  set(model.keys())"
   ]
  },
  {
   "cell_type": "code",
   "execution_count": 46,
   "metadata": {
    "colab": {
     "base_uri": "https://localhost:8080/",
     "height": 50
    },
    "colab_type": "code",
    "id": "2IHTExN4xd5p",
    "outputId": "fe01a7c9-e5cc-4ebe-d4d8-e0b0278d103c"
   },
   "outputs": [
    {
     "name": "stderr",
     "output_type": "stream",
     "text": [
      "[nltk_data] Downloading package vader_lexicon to\n",
      "[nltk_data]     /Users/lazyhacker/nltk_data...\n",
      "[nltk_data]   Package vader_lexicon is already up-to-date!\n"
     ]
    },
    {
     "data": {
      "text/plain": [
       "True"
      ]
     },
     "execution_count": 46,
     "metadata": {},
     "output_type": "execute_result"
    }
   ],
   "source": [
    "import nltk\n",
    "nltk.download('vader_lexicon')"
   ]
  },
  {
   "cell_type": "code",
   "execution_count": 47,
   "metadata": {
    "colab": {
     "base_uri": "https://localhost:8080/",
     "height": 34
    },
    "colab_type": "code",
    "id": "YKZIvFYBxaaD",
    "outputId": "d9dcffbf-971d-4220-c03e-bf01cd81bdd4"
   },
   "outputs": [
    {
     "name": "stdout",
     "output_type": "stream",
     "text": [
      "neg: 0.01, neu: 0.745, pos: 0.245, compound: 0.9975, "
     ]
    }
   ],
   "source": [
    "#Imporing nltk sentiment analyzer.\n",
    "import nltk\n",
    "from nltk.sentiment.vader import SentimentIntensityAnalyzer\n",
    "\n",
    "sid = SentimentIntensityAnalyzer()\n",
    "\n",
    "for_sentiment = 'a person is a person no matter how small dr seuss i teach the smallest students with the biggest enthusiasm \\\n",
    "for learning my students learn in many different ways using all of our senses and multiple intelligences i use a wide range\\\n",
    "of techniques to help all my students succeed students in my class come from a variety of different backgrounds which makes\\\n",
    "for wonderful sharing of experiences and cultures including native americans our school is a caring community of successful \\\n",
    "learners which can be seen through collaborative student project based learning in and out of the classroom kindergarteners \\\n",
    "in my class love to work with hands on materials and have many different opportunities to practice a skill before it is\\\n",
    "mastered having the social skills to work cooperatively with friends is a crucial aspect of the kindergarten curriculum\\\n",
    "montana is the perfect place to learn about agriculture and nutrition my students love to role play in our pretend kitchen\\\n",
    "in the early childhood classroom i have had several kids ask me can we try cooking with real food i will take their idea \\\n",
    "and create common core cooking lessons where we learn important math and writing concepts while cooking delicious healthy \\\n",
    "food for snack time my students will have a grounded appreciation for the work that went into making the food and knowledge \\\n",
    "of where the ingredients came from as well as how it is healthy for their bodies this project would expand our learning of \\\n",
    "nutrition and agricultural cooking recipes by having us peel our own apples to make homemade applesauce make our own bread \\\n",
    "and mix up healthy plants from our classroom garden in the spring we will also create our own cookbooks to be printed and \\\n",
    "shared with families students will gain math and literature skills as well as a life long enjoyment for healthy cooking \\\n",
    "nannan'\n",
    "ss = sid.polarity_scores(for_sentiment)\n",
    "\n",
    "for k in ss:\n",
    "    print('{0}: {1}, '.format(k, ss[k]), end='')\n"
   ]
  },
  {
   "cell_type": "code",
   "execution_count": 48,
   "metadata": {
    "colab": {},
    "colab_type": "code",
    "id": "NqY4ES_3N-33"
   },
   "outputs": [],
   "source": [
    "#loading data.\n",
    "import pandas\n",
    "data = pandas.read_csv('preprocessed_data.csv')"
   ]
  },
  {
   "cell_type": "code",
   "execution_count": 49,
   "metadata": {
    "colab": {},
    "colab_type": "code",
    "id": "mHvBlI_9N-4X"
   },
   "outputs": [
    {
     "name": "stdout",
     "output_type": "stream",
     "text": [
      "  school_state teacher_prefix project_grade_category  \\\n",
      "0           ca            mrs          grades_prek_2   \n",
      "1           ut             ms             grades_3_5   \n",
      "2           ca            mrs          grades_prek_2   \n",
      "3           ga            mrs          grades_prek_2   \n",
      "4           wa            mrs             grades_3_5   \n",
      "\n",
      "   teacher_number_of_previously_posted_projects  project_is_approved  \\\n",
      "0                                            53                    1   \n",
      "1                                             4                    1   \n",
      "2                                            10                    1   \n",
      "3                                             2                    1   \n",
      "4                                             2                    1   \n",
      "\n",
      "    clean_categories                 clean_subcategories  \\\n",
      "0       math_science  appliedsciences health_lifescience   \n",
      "1       specialneeds                        specialneeds   \n",
      "2  literacy_language                            literacy   \n",
      "3    appliedlearning                    earlydevelopment   \n",
      "4  literacy_language                            literacy   \n",
      "\n",
      "                                               essay   price  \n",
      "0  i fortunate enough use fairy tale stem kits cl...  725.05  \n",
      "1  imagine 8 9 years old you third grade classroo...  213.03  \n",
      "2  having class 24 students comes diverse learner...  329.00  \n",
      "3  i recently read article giving students choice...  481.04  \n",
      "4  my students crave challenge eat obstacles brea...   17.74  \n"
     ]
    }
   ],
   "source": [
    "#sample data.\n",
    "print(data.head())"
   ]
  },
  {
   "cell_type": "code",
   "execution_count": 60,
   "metadata": {},
   "outputs": [],
   "source": [
    "#assigning train and test data.\n",
    "y=data[\"project_is_approved\"].values\n",
    "x=data.drop([\"project_is_approved\"],axis=1) "
   ]
  },
  {
   "cell_type": "code",
   "execution_count": 93,
   "metadata": {},
   "outputs": [],
   "source": [
    "#splitting data into train and test.\n",
    "from sklearn.model_selection import train_test_split \n",
    "x_train,x_test,y_train,y_test = train_test_split(x, y, test_size=0.2, stratify=y)"
   ]
  },
  {
   "cell_type": "code",
   "execution_count": 103,
   "metadata": {},
   "outputs": [
    {
     "name": "stdout",
     "output_type": "stream",
     "text": [
      "SHAPES OF \n",
      "---------\n",
      "X_TRAIN    Y_TRAIN \n",
      "(87398, 8) (87398,)\n",
      "(21850, 8) (21850,)\n"
     ]
    }
   ],
   "source": [
    "#shape of train and test.\n",
    "print(\"SHAPES OF \")\n",
    "print(\"---------\")\n",
    "print(\"X_TRAIN    Y_TRAIN \")\n",
    "print(x_train.shape,y_train.shape)\n",
    "print(x_test.shape,y_test.shape)"
   ]
  },
  {
   "cell_type": "code",
   "execution_count": 115,
   "metadata": {},
   "outputs": [
    {
     "name": "stdout",
     "output_type": "stream",
     "text": [
      "FEATURE NAME:                       SHAPE AFTER TRANSFORMATION\n",
      "--------------------------------------------------------------\n",
      "                                              X         Y\n",
      "school_state               train :       (87398, 51) (87398,)\n",
      "                           test  :       (21850, 51) (21850,)\n",
      "teacher_prefix             train :       (87398, 5) (87398,)\n",
      "                           test  :       (21850, 5) (21850,)\n",
      "project_grade_category     train :       (87398, 4) (87398,)\n",
      "                           test  :       (21850, 4) (21850,)\n",
      "clean_categories           train :       (87398, 9) (87398,)\n",
      "                           test  :       (21850, 9) (21850,)\n",
      "clean_subcategories        train :       (87398, 30) (87398,)\n",
      "                           test  :       (21850, 30) (21850,)\n"
     ]
    }
   ],
   "source": [
    "#vectorizing data.\n",
    "from sklearn.feature_extraction.text import CountVectorizer\n",
    "\n",
    "\n",
    "print(\"FEATURE NAME:                       SHAPE AFTER TRANSFORMATION\")\n",
    "print(\"--------------------------------------------------------------\")\n",
    "print(\"                                              X         Y\")\n",
    "school_state_vectorizer = CountVectorizer(binary=True)\n",
    "school_state_vectorizer.fit(x_train['school_state'].values)\n",
    "x_train_school_state_ohe = school_state_vectorizer.transform(x_train['school_state'].values)\n",
    "x_test_school_state_ohe = school_state_vectorizer.transform(x_test['school_state'].values)\n",
    "print(\"school_state               train :      \",x_train_school_state_ohe.shape,y_train.shape)\n",
    "print(\"                           test  :      \",x_test_school_state_ohe.shape,y_test.shape)\n",
    "\n",
    "\n",
    "teacher_prefix_vectorizer = CountVectorizer(binary=True)\n",
    "teacher_prefix_vectorizer.fit(x_train['teacher_prefix'].values)\n",
    "x_train_teacher_prefix_ohe = teacher_prefix_vectorizer.transform(x_train['teacher_prefix'].values)\n",
    "x_test_teacher_prefix_ohe = teacher_prefix_vectorizer.transform(x_test['teacher_prefix'].values)\n",
    "print(\"teacher_prefix             train :      \",x_train_teacher_prefix_ohe.shape,y_train.shape)\n",
    "print(\"                           test  :      \",x_test_teacher_prefix_ohe.shape,y_test.shape)\n",
    "\n",
    "project_grade_category_vectorizer = CountVectorizer(binary=True)\n",
    "project_grade_category_vectorizer.fit(x_train['project_grade_category'].values)\n",
    "x_train_project_grade_category_ohe = project_grade_category_vectorizer.transform(x_train['project_grade_category'].values)\n",
    "x_test_project_grade_category_ohe = project_grade_category_vectorizer.transform(x_test['project_grade_category'].values)\n",
    "print(\"project_grade_category     train :      \",x_train_project_grade_category_ohe.shape,y_train.shape)\n",
    "print(\"                           test  :      \",x_test_project_grade_category_ohe.shape,y_test.shape) \n",
    "\n",
    "clean_categories_vectorizer = CountVectorizer(binary=True)\n",
    "clean_categories_vectorizer.fit(x_train['clean_categories'].values)\n",
    "x_train_clean_categories_vectorizer_ohe = clean_categories_vectorizer.transform(x_train['clean_categories'].values)\n",
    "x_test_clean_categories_vectorizer_ohe = clean_categories_vectorizer.transform(x_test['clean_categories'].values)\n",
    "print(\"clean_categories           train :      \",x_train_clean_categories_vectorizer_ohe.shape,y_train.shape)\n",
    "print(\"                           test  :      \",x_test_clean_categories_vectorizer_ohe.shape,y_test.shape)\n",
    "\n",
    "clean_subcategories_vectorizer = CountVectorizer(binary=True)\n",
    "clean_subcategories_vectorizer.fit(x_train['clean_subcategories'].values)\n",
    "x_train_clean_subcategories_vectorizer_ohe = clean_subcategories_vectorizer.transform(x_train['clean_subcategories'].values)\n",
    "x_test_clean_subcategories_vectorizer_ohe = clean_subcategories_vectorizer.transform(x_test['clean_subcategories'].values)\n",
    "print(\"clean_subcategories        train :      \",x_train_clean_subcategories_vectorizer_ohe.shape,y_train.shape)\n",
    "print(\"                           test  :      \",x_test_clean_subcategories_vectorizer_ohe.shape,y_test.shape)"
   ]
  },
  {
   "cell_type": "code",
   "execution_count": 118,
   "metadata": {},
   "outputs": [
    {
     "name": "stdout",
     "output_type": "stream",
     "text": [
      "FEATURE NAME:                       SHAPE AFTER TRANSFORMATION-TFIDF\n",
      "--------------------------------------------------------------\n",
      "essay                            train   (87398, 51618) (87398,)\n",
      "                                 test    (21850, 51618) (21850,)\n"
     ]
    }
   ],
   "source": [
    "from sklearn.feature_extraction.text import TfidfVectorizer\n",
    "essay_tfidf_vectorizer = TfidfVectorizer()\n",
    "essay_tfidf_vectorizer.fit(x_train['essay'].values)\n",
    "x_train_essay_tfidf = essay_tfidf_vectorizer.transform(x_train['essay'].values)\n",
    "x_test_essay_tfidf = essay_tfidf_vectorizer.transform(x_test['essay'].values)\n",
    "\n",
    "\n",
    "print(\"FEATURE NAME:                       SHAPE AFTER TRANSFORMATION-TFIDF\")\n",
    "print(\"--------------------------------------------------------------\")\n",
    "print(\"essay                            train  \",x_train_essay_tfidf.shape,y_train.shape)\n",
    "print(\"                                 test   \",x_test_essay_tfidf.shape,y_test.shape)"
   ]
  },
  {
   "cell_type": "code",
   "execution_count": 119,
   "metadata": {},
   "outputs": [
    {
     "name": "stdout",
     "output_type": "stream",
     "text": [
      "      school_state teacher_prefix project_grade_category  \\\n",
      "1758            nj             ms             grades_3_5   \n",
      "34447           mo             ms          grades_prek_2   \n",
      "87384           ga            mrs          grades_prek_2   \n",
      "41029           fl            mrs             grades_3_5   \n",
      "72073           nc             ms             grades_3_5   \n",
      "\n",
      "       teacher_number_of_previously_posted_projects   clean_categories  \\\n",
      "1758                                              1       math_science   \n",
      "34447                                            46  literacy_language   \n",
      "87384                                           112  literacy_language   \n",
      "41029                                             4       math_science   \n",
      "72073                                            11       math_science   \n",
      "\n",
      "               clean_subcategories  \\\n",
      "1758                   mathematics   \n",
      "34447           literature_writing   \n",
      "87384                     literacy   \n",
      "41029  appliedsciences mathematics   \n",
      "72073         environmentalscience   \n",
      "\n",
      "                                                   essay   price  \n",
      "1758   teach i forget show i may remember but involve...  283.91  \n",
      "34447  oil may run liquidity may dry long ink flows f...  124.16  \n",
      "87384  i teach 20 energetic joyful fun loving student...  269.96  \n",
      "41029  our school small public school located primari...  579.08  \n",
      "72073  the students school diverse race religion acad...  430.60  \n"
     ]
    }
   ],
   "source": [
    "print(x_train.head())"
   ]
  },
  {
   "cell_type": "code",
   "execution_count": 125,
   "metadata": {},
   "outputs": [
    {
     "name": "stdout",
     "output_type": "stream",
     "text": [
      "FEATURE NAME:                                    SHAPE AFTER TRANSFORMATION-TFIDF\n",
      "--------------------------------------------------------------\n",
      "teacher_number_of_previously_posted_projects      train   (87398, 51618) (87398,)\n",
      "                                                  test    (21850, 51618) (21850,)\n",
      "price                                             train   (87398, 51618) (87398,)\n",
      "                                                  test    (21850, 51618) (21850,)\n"
     ]
    }
   ],
   "source": [
    "#normalizing numerical values\n",
    "from sklearn.preprocessing import Normalizer\n",
    "\n",
    "normalizer1=Normalizer()\n",
    "normalizer1.fit(x_train['teacher_number_of_previously_posted_projects'].values.reshape(-1,1))\n",
    "x_train_teacher_number_of_previously_posted_projects=normalizer1.transform(x_train['teacher_number_of_previously_posted_projects'].values.reshape(-1,1))\n",
    "x_test_teacher_number_of_previously_posted_projects=normalizer1.transform(x_test['teacher_number_of_previously_posted_projects'].values.reshape(-1,1))\n",
    "\n",
    "\n",
    "normalizer2=Normalizer()\n",
    "normalizer2.fit(x_train['price'].values.reshape(-1,1))\n",
    "x_train_price=normalizer1.transform(x_train['price'].values.reshape(-1,1))\n",
    "x_test_price=normalizer1.transform(x_test['price'].values.reshape(-1,1))\n",
    "\n",
    "\n",
    "\n",
    "print(\"FEATURE NAME:                                    SHAPE AFTER TRANSFORMATION-TFIDF\")\n",
    "print(\"--------------------------------------------------------------\")\n",
    "print(\"teacher_number_of_previously_posted_projects      train  \",x_train_essay_tfidf.shape,y_train.shape)\n",
    "print(\"                                                  test   \",x_test_essay_tfidf.shape,y_test.shape)\n",
    "\n",
    "print(\"price                                             train  \",x_train_essay_tfidf.shape,y_train.shape)\n",
    "print(\"                                                  test   \",x_test_essay_tfidf.shape,y_test.shape)"
   ]
  },
  {
   "cell_type": "code",
   "execution_count": 133,
   "metadata": {},
   "outputs": [
    {
     "name": "stdout",
     "output_type": "stream",
     "text": [
      "FEATURE NAME:                       SHAPE AFTER TRANSFORMATION-TFIDF_W2V\n",
      "--------------------------------------------------------------\n",
      "essay                             train  (87398, 51618) (87398,)\n",
      "                                  test   (21850, 51618) (21850,)\n"
     ]
    }
   ],
   "source": [
    "#intializing tfidfvectorizer and vectorizing the data.\n",
    "tfidf_model = TfidfVectorizer()\n",
    "tfidf_model.fit(x_train['essay'].values)\n",
    "x_train_essay_tfidf=tfidf_model.transform(x_train['essay'].values)\n",
    "x_test_essay_tfidf=tfidf_model.transform(x_test['essay'].values)\n",
    "print(\"FEATURE NAME:                       SHAPE AFTER TRANSFORMATION-TFIDF_W2V\")\n",
    "print(\"--------------------------------------------------------------\")\n",
    "print(\"essay                             train \",x_train_essay_tfidf.shape,y_train.shape)\n",
    "print(\"                                  test  \",x_test_essay_tfidf.shape,y_test.shape)"
   ]
  },
  {
   "cell_type": "code",
   "execution_count": 154,
   "metadata": {},
   "outputs": [
    {
     "name": "stderr",
     "output_type": "stream",
     "text": [
      "100%|██████████| 87398/87398 [04:03<00:00, 358.63it/s]\n",
      "100%|██████████| 21850/21850 [00:59<00:00, 369.60it/s]\n"
     ]
    }
   ],
   "source": [
    "#customized tfidf word 2 vec.\n",
    "import numpy as np\n",
    "def tfidf_w2v(d):\n",
    "    tfidf_words = set(tfidf_model.get_feature_names())\n",
    "    dictionary = dict(zip(tfidf_model.get_feature_names(), list(tfidf_model.idf_)))\n",
    "    tfidf_words = set(tfidf_model.get_feature_names())\n",
    "    from tqdm import tqdm\n",
    "    tfidf_w2v_vectors = []; # the avg-w2v for each sentence/review is stored in this list\n",
    "    for sentence in tqdm(d.values): # for each review/sentence\n",
    "        vector = np.zeros(300) # as word vectors are of zero length\n",
    "        tf_idf_weight =0; # num of words with a valid vector in the sentence/review\n",
    "        for word in sentence.split(): # for each word in a review/sentence\n",
    "            if (word in glove_words) and (word in tfidf_words):\n",
    "                vec = model[word] # getting the vector for each word\n",
    "                # here we are multiplying idf value(dictionary[word]) and the tf value((sentence.count(word)/len(sentence.split())))\n",
    "                tf_idf = dictionary[word]*(sentence.count(word)/len(sentence.split())) # getting the tfidf value for each word\n",
    "                vector += (vec * tf_idf) # calculating tfidf weighted w2v\n",
    "                tf_idf_weight += tf_idf\n",
    "        if tf_idf_weight != 0:\n",
    "            vector /= tf_idf_weight\n",
    "        tfidf_w2v_vectors.append(vector)\n",
    "    return tfidf_w2v_vectors\n",
    "x_train_essay_tfidf_w2v=tfidf_w2v(x_train['essay'])\n",
    "x_test_essay_tfidf_w2v=tfidf_w2v(x_test['essay'])"
   ]
  },
  {
   "cell_type": "code",
   "execution_count": 153,
   "metadata": {},
   "outputs": [
    {
     "name": "stdout",
     "output_type": "stream",
     "text": [
      "FEATURE NAME:                           SHAPE AFTER TRANSFORMATION-TFIDF_W2V\n",
      "---------------------------------------------------------------------------\n",
      "                                          X      Y\n",
      "essay                            train  87398 (87398,)\n",
      "                                 test   21850 (21850,)\n"
     ]
    }
   ],
   "source": [
    "print(\"FEATURE NAME:                           SHAPE AFTER TRANSFORMATION-TFIDF_W2V\")\n",
    "print(\"---------------------------------------------------------------------------\")\n",
    "print(\"                                          X      Y\")\n",
    "print(\"essay                            train \",len(x_train_essay_tfidf_w2v),y_train.shape)\n",
    "print(\"                                 test  \",len(x_test_essay_tfidf_w2v),y_test.shape)"
   ]
  },
  {
   "cell_type": "code",
   "execution_count": 53,
   "metadata": {},
   "outputs": [
    {
     "data": {
      "text/html": [
       "<div>\n",
       "<style scoped>\n",
       "    .dataframe tbody tr th:only-of-type {\n",
       "        vertical-align: middle;\n",
       "    }\n",
       "\n",
       "    .dataframe tbody tr th {\n",
       "        vertical-align: top;\n",
       "    }\n",
       "\n",
       "    .dataframe thead th {\n",
       "        text-align: right;\n",
       "    }\n",
       "</style>\n",
       "<table border=\"1\" class=\"dataframe\">\n",
       "  <thead>\n",
       "    <tr style=\"text-align: right;\">\n",
       "      <th></th>\n",
       "      <th>school_state</th>\n",
       "      <th>teacher_prefix</th>\n",
       "      <th>project_grade_category</th>\n",
       "      <th>teacher_number_of_previously_posted_projects</th>\n",
       "      <th>project_is_approved</th>\n",
       "      <th>clean_categories</th>\n",
       "      <th>clean_subcategories</th>\n",
       "      <th>essay</th>\n",
       "      <th>price</th>\n",
       "    </tr>\n",
       "  </thead>\n",
       "  <tbody>\n",
       "    <tr>\n",
       "      <th>0</th>\n",
       "      <td>ca</td>\n",
       "      <td>mrs</td>\n",
       "      <td>grades_prek_2</td>\n",
       "      <td>53</td>\n",
       "      <td>1</td>\n",
       "      <td>math_science</td>\n",
       "      <td>appliedsciences health_lifescience</td>\n",
       "      <td>i fortunate enough use fairy tale stem kits cl...</td>\n",
       "      <td>725.05</td>\n",
       "    </tr>\n",
       "    <tr>\n",
       "      <th>1</th>\n",
       "      <td>ut</td>\n",
       "      <td>ms</td>\n",
       "      <td>grades_3_5</td>\n",
       "      <td>4</td>\n",
       "      <td>1</td>\n",
       "      <td>specialneeds</td>\n",
       "      <td>specialneeds</td>\n",
       "      <td>imagine 8 9 years old you third grade classroo...</td>\n",
       "      <td>213.03</td>\n",
       "    </tr>\n",
       "    <tr>\n",
       "      <th>2</th>\n",
       "      <td>ca</td>\n",
       "      <td>mrs</td>\n",
       "      <td>grades_prek_2</td>\n",
       "      <td>10</td>\n",
       "      <td>1</td>\n",
       "      <td>literacy_language</td>\n",
       "      <td>literacy</td>\n",
       "      <td>having class 24 students comes diverse learner...</td>\n",
       "      <td>329.00</td>\n",
       "    </tr>\n",
       "    <tr>\n",
       "      <th>3</th>\n",
       "      <td>ga</td>\n",
       "      <td>mrs</td>\n",
       "      <td>grades_prek_2</td>\n",
       "      <td>2</td>\n",
       "      <td>1</td>\n",
       "      <td>appliedlearning</td>\n",
       "      <td>earlydevelopment</td>\n",
       "      <td>i recently read article giving students choice...</td>\n",
       "      <td>481.04</td>\n",
       "    </tr>\n",
       "    <tr>\n",
       "      <th>4</th>\n",
       "      <td>wa</td>\n",
       "      <td>mrs</td>\n",
       "      <td>grades_3_5</td>\n",
       "      <td>2</td>\n",
       "      <td>1</td>\n",
       "      <td>literacy_language</td>\n",
       "      <td>literacy</td>\n",
       "      <td>my students crave challenge eat obstacles brea...</td>\n",
       "      <td>17.74</td>\n",
       "    </tr>\n",
       "  </tbody>\n",
       "</table>\n",
       "</div>"
      ],
      "text/plain": [
       "  school_state teacher_prefix project_grade_category  \\\n",
       "0           ca            mrs          grades_prek_2   \n",
       "1           ut             ms             grades_3_5   \n",
       "2           ca            mrs          grades_prek_2   \n",
       "3           ga            mrs          grades_prek_2   \n",
       "4           wa            mrs             grades_3_5   \n",
       "\n",
       "   teacher_number_of_previously_posted_projects  project_is_approved  \\\n",
       "0                                            53                    1   \n",
       "1                                             4                    1   \n",
       "2                                            10                    1   \n",
       "3                                             2                    1   \n",
       "4                                             2                    1   \n",
       "\n",
       "    clean_categories                 clean_subcategories  \\\n",
       "0       math_science  appliedsciences health_lifescience   \n",
       "1       specialneeds                        specialneeds   \n",
       "2  literacy_language                            literacy   \n",
       "3    appliedlearning                    earlydevelopment   \n",
       "4  literacy_language                            literacy   \n",
       "\n",
       "                                               essay   price  \n",
       "0  i fortunate enough use fairy tale stem kits cl...  725.05  \n",
       "1  imagine 8 9 years old you third grade classroo...  213.03  \n",
       "2  having class 24 students comes diverse learner...  329.00  \n",
       "3  i recently read article giving students choice...  481.04  \n",
       "4  my students crave challenge eat obstacles brea...   17.74  "
      ]
     },
     "execution_count": 53,
     "metadata": {},
     "output_type": "execute_result"
    }
   ],
   "source": [
    "import pandas as pd\n",
    "preprocessed_essay=pd.read_csv('preprocessed_data.csv')\n",
    "preprocessed_essay.head()"
   ]
  },
  {
   "cell_type": "code",
   "execution_count": 134,
   "metadata": {},
   "outputs": [
    {
     "name": "stdout",
     "output_type": "stream",
     "text": [
      "FEATURE NAME:                       SHAPE AFTER TRANSFORMATION-sentiment_score\n",
      "--------------------------------------------------------------\n",
      "essay                             train  (87398,)\n",
      "                                  test   (21850,)\n"
     ]
    }
   ],
   "source": [
    "#https://stackoverflow.com/questions/42650881/how-to-get-the-positive-score-only\n",
    "import nltk\n",
    "from nltk.sentiment.vader import SentimentIntensityAnalyzer\n",
    "def pscore(s):\n",
    "    sid = SentimentIntensityAnalyzer()\n",
    "    ss = sid.polarity_scores(s)['pos']\n",
    "    return ss\n",
    "x_train_p_df=x_train['essay'].apply(pscore)\n",
    "x_test_p_df=x_test['essay'].apply(pscore)\n",
    "print(\"FEATURE NAME:                       SHAPE AFTER TRANSFORMATION-sentiment_score\")\n",
    "print(\"------------------------------------------------------------------------------\")\n",
    "print(\"                                            X       Y\")\n",
    "print(\"essay                               train \",x_train_p_df.shape\n",
    "print(\"                                    test  \",x_test_p_df.shape)"
   ]
  },
  {
   "cell_type": "code",
   "execution_count": 161,
   "metadata": {},
   "outputs": [
    {
     "name": "stdout",
     "output_type": "stream",
     "text": [
      "<class 'pandas.core.series.Series'>\n"
     ]
    }
   ],
   "source": [
    "print(type(x_train_p_df))\n",
    "normalizer3=Normalizer()\n",
    "normalizer3.fit(x_train_p_df.values.reshape(-1,1))\n",
    "x_train_p_df_v=normalizer3.transform(x_train_p_df.values.reshape(-1,1))\n",
    "x_test_p_df_v=normalizer3.transform(x_test_p_df.values.reshape(-1,1))\n",
    "\n",
    "\n"
   ]
  },
  {
   "cell_type": "code",
   "execution_count": 160,
   "metadata": {},
   "outputs": [
    {
     "name": "stdout",
     "output_type": "stream",
     "text": [
      "35939    0.240\n",
      "75792    0.165\n",
      "81396    0.324\n",
      "74915    0.440\n",
      "73941    0.233\n",
      "Name: essay, dtype: float64\n"
     ]
    }
   ],
   "source": [
    "print(x_train_p_df[9:14])"
   ]
  },
  {
   "cell_type": "code",
   "execution_count": 164,
   "metadata": {},
   "outputs": [],
   "source": [
    "#https://stackoverflow.com/questions/7922487/how-to-transform-numpy-matrix-or-array-to-scipy-sparse-matrix\n",
    "from scipy.sparse import hstack\n",
    "\n",
    "set1_train=hstack((x_train_school_state_ohe,x_train_teacher_prefix_ohe,x_train_project_grade_category_ohe,x_train_clean_categories_vectorizer_ohe,x_train_clean_subcategories_vectorizer_ohe,x_train_essay_tfidf,x_train_p_df_v)).tocsr()\n",
    "set1_test=hstack((x_test_school_state_ohe,x_test_teacher_prefix_ohe,x_test_project_grade_category_ohe,x_test_clean_categories_vectorizer_ohe,x_test_clean_subcategories_vectorizer_ohe,x_test_essay_tfidf,x_test_p_df_v)).tocsr()\n",
    "\n",
    "\n",
    "set2_train=hstack((x_train_school_state_ohe,x_train_teacher_prefix_ohe,x_train_project_grade_category_ohe,x_train_clean_categories_vectorizer_ohe,x_train_clean_subcategories_vectorizer_ohe,x_train_essay_tfidf_w2v,x_train_p_df_v)).tocsr()\n",
    "set2_test=hstack((x_test_school_state_ohe,x_test_teacher_prefix_ohe,x_test_project_grade_category_ohe,x_test_clean_categories_vectorizer_ohe,x_test_clean_subcategories_vectorizer_ohe,x_test_essay_tfidf_w2v,x_test_p_df_v)).tocsr()"
   ]
  },
  {
   "cell_type": "code",
   "execution_count": 177,
   "metadata": {},
   "outputs": [],
   "source": [
    "from sklearn.model_selection import GridSearchCV\n",
    "from sklearn.tree import DecisionTreeClassifier\n",
    "from sklearn.metrics import roc_auc_score\n",
    "clf=DecisionTreeClassifier()\n",
    "gv={'max_depth':[1, 5, 10, 50],'min_samples_split':[5, 10, 100, 500]}\n"
   ]
  },
  {
   "cell_type": "code",
   "execution_count": 178,
   "metadata": {},
   "outputs": [
    {
     "data": {
      "text/plain": [
       "GridSearchCV(estimator=DecisionTreeClassifier(),\n",
       "             param_grid={'max_depth': [1, 5, 10, 50],\n",
       "                         'min_samples_split': [5, 10, 100, 500]},\n",
       "             scoring='roc_auc')"
      ]
     },
     "execution_count": 178,
     "metadata": {},
     "output_type": "execute_result"
    }
   ],
   "source": [
    "clf_f1=GridSearchCV(clf,gv,scoring='roc_auc')\n",
    "clf_f1.fit(set1_train,y_train)"
   ]
  },
  {
   "cell_type": "code",
   "execution_count": null,
   "metadata": {},
   "outputs": [],
   "source": [
    "#testing decision tree on 2 sets of data.\n",
    "#1.set1=data+tfidf+polarity\n",
    "#2.set2=data+tfidf_w2v+polarity"
   ]
  },
  {
   "cell_type": "code",
   "execution_count": 180,
   "metadata": {},
   "outputs": [
    {
     "data": {
      "text/plain": [
       "{'mean_fit_time': array([ 2.88711166,  2.86032557,  2.84307628,  2.88736343,  7.51753855,\n",
       "         7.44965897,  7.43731256,  7.37005744, 16.3540556 , 16.10131626,\n",
       "        15.43371563, 14.16570835, 92.67027411, 90.20429382, 83.06793747,\n",
       "        71.34499555]),\n",
       " 'std_fit_time': array([0.10372847, 0.02542091, 0.05903581, 0.0634103 , 0.02838598,\n",
       "        0.0436203 , 0.08713203, 0.10264029, 0.18731693, 0.21156561,\n",
       "        0.1059281 , 0.14197535, 1.53111217, 1.19147303, 1.62082134,\n",
       "        1.55524446]),\n",
       " 'mean_score_time': array([0.04483361, 0.04248538, 0.04275475, 0.04324083, 0.04358282,\n",
       "        0.04370956, 0.04418893, 0.04353228, 0.04903264, 0.0442976 ,\n",
       "        0.04449434, 0.04409466, 0.05053153, 0.05002012, 0.05189853,\n",
       "        0.04639301]),\n",
       " 'std_score_time': array([0.0032948 , 0.00055744, 0.00057619, 0.00267005, 0.00127228,\n",
       "        0.00058709, 0.0027568 , 0.00154106, 0.00479389, 0.00194395,\n",
       "        0.00192179, 0.00166818, 0.0021676 , 0.00081279, 0.00233954,\n",
       "        0.00125039]),\n",
       " 'param_max_depth': masked_array(data=[1, 1, 1, 1, 5, 5, 5, 5, 10, 10, 10, 10, 50, 50, 50, 50],\n",
       "              mask=[False, False, False, False, False, False, False, False,\n",
       "                    False, False, False, False, False, False, False, False],\n",
       "        fill_value='?',\n",
       "             dtype=object),\n",
       " 'param_min_samples_split': masked_array(data=[5, 10, 100, 500, 5, 10, 100, 500, 5, 10, 100, 500, 5,\n",
       "                    10, 100, 500],\n",
       "              mask=[False, False, False, False, False, False, False, False,\n",
       "                    False, False, False, False, False, False, False, False],\n",
       "        fill_value='?',\n",
       "             dtype=object),\n",
       " 'params': [{'max_depth': 1, 'min_samples_split': 5},\n",
       "  {'max_depth': 1, 'min_samples_split': 10},\n",
       "  {'max_depth': 1, 'min_samples_split': 100},\n",
       "  {'max_depth': 1, 'min_samples_split': 500},\n",
       "  {'max_depth': 5, 'min_samples_split': 5},\n",
       "  {'max_depth': 5, 'min_samples_split': 10},\n",
       "  {'max_depth': 5, 'min_samples_split': 100},\n",
       "  {'max_depth': 5, 'min_samples_split': 500},\n",
       "  {'max_depth': 10, 'min_samples_split': 5},\n",
       "  {'max_depth': 10, 'min_samples_split': 10},\n",
       "  {'max_depth': 10, 'min_samples_split': 100},\n",
       "  {'max_depth': 10, 'min_samples_split': 500},\n",
       "  {'max_depth': 50, 'min_samples_split': 5},\n",
       "  {'max_depth': 50, 'min_samples_split': 10},\n",
       "  {'max_depth': 50, 'min_samples_split': 100},\n",
       "  {'max_depth': 50, 'min_samples_split': 500}],\n",
       " 'split0_test_score': array([0.53842256, 0.53842256, 0.53842256, 0.53842256, 0.60421477,\n",
       "        0.60421477, 0.6042188 , 0.60418644, 0.60712644, 0.60776569,\n",
       "        0.61081075, 0.61195512, 0.52491728, 0.53578139, 0.55886938,\n",
       "        0.57187556]),\n",
       " 'split1_test_score': array([0.55466536, 0.55466536, 0.55466536, 0.55466536, 0.61358487,\n",
       "        0.61351779, 0.61385395, 0.61385395, 0.62193636, 0.62288413,\n",
       "        0.62712753, 0.62906497, 0.54745595, 0.54482066, 0.57284684,\n",
       "        0.60086655]),\n",
       " 'split2_test_score': array([0.54187282, 0.54187282, 0.54187282, 0.54187282, 0.60740065,\n",
       "        0.60740065, 0.60754069, 0.60753602, 0.61409941, 0.6140159 ,\n",
       "        0.62018317, 0.62066948, 0.53761272, 0.546541  , 0.57330557,\n",
       "        0.60382013]),\n",
       " 'split3_test_score': array([0.5580475 , 0.5580475 , 0.5580475 , 0.5580475 , 0.61229465,\n",
       "        0.61260517, 0.61266023, 0.61536746, 0.6233702 , 0.62298439,\n",
       "        0.62561869, 0.6291346 , 0.53594404, 0.53756543, 0.55607717,\n",
       "        0.59105947]),\n",
       " 'split4_test_score': array([0.55587975, 0.55587975, 0.55587975, 0.55587975, 0.61186875,\n",
       "        0.61182561, 0.61196355, 0.61249536, 0.60576139, 0.60555921,\n",
       "        0.61025299, 0.61188181, 0.5201144 , 0.53641664, 0.55820771,\n",
       "        0.58596482]),\n",
       " 'mean_test_score': array([0.5497776 , 0.5497776 , 0.5497776 , 0.5497776 , 0.60987274,\n",
       "        0.6099128 , 0.61004744, 0.61068784, 0.61445876, 0.61464186,\n",
       "        0.61879863, 0.6205412 , 0.53320888, 0.54022503, 0.56386134,\n",
       "        0.59071731]),\n",
       " 'std_test_score': array([0.00801174, 0.00801174, 0.00801174, 0.00801174, 0.00351435,\n",
       "        0.00354068, 0.00361233, 0.00418073, 0.00727825, 0.00731712,\n",
       "        0.00713631, 0.00768405, 0.00969608, 0.00452404, 0.00758168,\n",
       "        0.01142283]),\n",
       " 'rank_test_score': array([11, 11, 11, 11,  8,  7,  6,  5,  4,  3,  2,  1, 16, 15, 10,  9],\n",
       "       dtype=int32)}"
      ]
     },
     "execution_count": 180,
     "metadata": {},
     "output_type": "execute_result"
    }
   ],
   "source": [
    "clf_f1.cv_results_"
   ]
  },
  {
   "cell_type": "code",
   "execution_count": 181,
   "metadata": {},
   "outputs": [
    {
     "data": {
      "text/plain": [
       "DecisionTreeClassifier(max_depth=10, min_samples_split=500)"
      ]
     },
     "execution_count": 181,
     "metadata": {},
     "output_type": "execute_result"
    }
   ],
   "source": [
    "clf_f1.best_estimator_"
   ]
  },
  {
   "cell_type": "code",
   "execution_count": 182,
   "metadata": {},
   "outputs": [
    {
     "data": {
      "text/plain": [
       "0.6205411972455885"
      ]
     },
     "execution_count": 182,
     "metadata": {},
     "output_type": "execute_result"
    }
   ],
   "source": [
    "clf_f1.best_score_"
   ]
  },
  {
   "cell_type": "code",
   "execution_count": 183,
   "metadata": {},
   "outputs": [
    {
     "data": {
      "text/plain": [
       "{'max_depth': 10, 'min_samples_split': 500}"
      ]
     },
     "execution_count": 183,
     "metadata": {},
     "output_type": "execute_result"
    }
   ],
   "source": [
    "clf_f1.best_params_"
   ]
  },
  {
   "cell_type": "code",
   "execution_count": null,
   "metadata": {},
   "outputs": [],
   "source": [
    "best_n_estimators_value = clf_f1.best_params_['n_estimators']\n",
    "best_max_depth_value = clf_f1.best_params_['max_depth']\n",
    "best_score = clf_f1.best_score_"
   ]
  },
  {
   "cell_type": "code",
   "execution_count": 201,
   "metadata": {},
   "outputs": [
    {
     "name": "stdout",
     "output_type": "stream",
     "text": [
      "[0.04483361 0.04248538 0.04275475 0.04324083 0.04358282 0.04370956\n",
      " 0.04418893 0.04353228 0.04903264 0.0442976  0.04449434 0.04409466\n",
      " 0.05053153 0.05002012 0.05189853 0.04639301]\n"
     ]
    }
   ],
   "source": [
    "AUC_f1=clf_f1.cv_results_['mean_score_time']\n",
    "print(AUC_f1)"
   ]
  },
  {
   "cell_type": "code",
   "execution_count": 187,
   "metadata": {},
   "outputs": [
    {
     "data": {
      "text/plain": [
       "DecisionTreeClassifier(max_depth=10, min_samples_split=500)"
      ]
     },
     "execution_count": 187,
     "metadata": {},
     "output_type": "execute_result"
    }
   ],
   "source": [
    "clf1=DecisionTreeClassifier(max_depth=10,min_samples_split=500)\n",
    "clf1.fit(set1_train,y_train)"
   ]
  },
  {
   "cell_type": "code",
   "execution_count": 197,
   "metadata": {},
   "outputs": [
    {
     "name": "stdout",
     "output_type": "stream",
     "text": [
      "[[0.16816159 0.83183841]\n",
      " [0.16816159 0.83183841]\n",
      " [0.25147929 0.74852071]\n",
      " ...\n",
      " [0.09908729 0.90091271]\n",
      " [0.25147929 0.74852071]\n",
      " [0.11544738 0.88455262]]\n",
      "0.6289669001399092\n"
     ]
    },
    {
     "data": {
      "image/png": "[encoded data removed]",
      "text/plain": [
       "<Figure size 432x288 with 1 Axes>"
      ]
     },
     "metadata": {
      "needs_background": "light"
     },
     "output_type": "display_data"
    }
   ],
   "source": [
    "from sklearn.metrics import roc_curve, roc_auc_score\n",
    "from matplotlib import pyplot as plt\n",
    "\n",
    "p1=clf1.predict_proba(set1_test)\n",
    "print(p1)\n",
    "\n",
    "print(roc_auc_score(y_test, p1[:,1]))\n",
    "\n",
    "fpr, tpr, _ = roc_curve(y_test, p1[:,1])\n",
    "\n",
    "plt.clf()\n",
    "plt.plot(fpr, tpr)\n",
    "plt.xlabel('FPR')\n",
    "plt.ylabel('TPR')\n",
    "plt.title('ROC curve')\n",
    "plt.show()"
   ]
  },
  {
   "cell_type": "code",
   "execution_count": null,
   "metadata": {},
   "outputs": [],
   "source": []
  },
  {
   "cell_type": "code",
   "execution_count": 176,
   "metadata": {},
   "outputs": [
    {
     "data": {
      "text/plain": [
       "GridSearchCV(estimator=DecisionTreeClassifier(),\n",
       "             param_grid={'max_depth': [1, 5, 10, 50],\n",
       "                         'min_samples_split': [5, 10, 100, 500]},\n",
       "             scoring='roc_auc')"
      ]
     },
     "execution_count": 176,
     "metadata": {},
     "output_type": "execute_result"
    }
   ],
   "source": [
    "clf_f2=GridSearchCV(clf,gv,scoring='roc_auc')\n",
    "clf_f2.fit(set2_train,y_train)"
   ]
  },
  {
   "cell_type": "code",
   "execution_count": 179,
   "metadata": {},
   "outputs": [
    {
     "data": {
      "text/plain": [
       "{'mean_fit_time': array([  5.37354345,   5.8121685 ,   4.68555655,   4.2460052 ,\n",
       "         19.23277588,  19.24668221,  19.47361126,  18.80061831,\n",
       "         57.43684535,  55.7386858 ,  46.47465916,  41.90550261,\n",
       "        198.91725283, 197.56720691, 184.78205471, 117.24092302]),\n",
       " 'std_fit_time': array([0.85576025, 1.59672494, 0.38189298, 0.25427638, 0.91856053,\n",
       "        1.42472022, 1.10132212, 0.36200677, 8.2274153 , 4.01148265,\n",
       "        1.78788906, 1.87901865, 5.94836306, 3.60002067, 5.51368907,\n",
       "        4.24317874]),\n",
       " 'mean_score_time': array([0.08076982, 0.0934638 , 0.09825621, 0.07755809, 0.07889867,\n",
       "        0.07689538, 0.07882633, 0.07772646, 0.08655281, 0.08673086,\n",
       "        0.07711043, 0.07671909, 0.07934132, 0.0781919 , 0.07761016,\n",
       "        0.07760363]),\n",
       " 'std_score_time': array([0.00318917, 0.03116592, 0.02396389, 0.00787152, 0.00932324,\n",
       "        0.00328292, 0.00351629, 0.00272409, 0.00578884, 0.0077146 ,\n",
       "        0.00322696, 0.0027663 , 0.0035502 , 0.00153686, 0.00166907,\n",
       "        0.00109765]),\n",
       " 'param_max_depth': masked_array(data=[1, 1, 1, 1, 5, 5, 5, 5, 10, 10, 10, 10, 50, 50, 50, 50],\n",
       "              mask=[False, False, False, False, False, False, False, False,\n",
       "                    False, False, False, False, False, False, False, False],\n",
       "        fill_value='?',\n",
       "             dtype=object),\n",
       " 'param_min_samples_split': masked_array(data=[5, 10, 100, 500, 5, 10, 100, 500, 5, 10, 100, 500, 5,\n",
       "                    10, 100, 500],\n",
       "              mask=[False, False, False, False, False, False, False, False,\n",
       "                    False, False, False, False, False, False, False, False],\n",
       "        fill_value='?',\n",
       "             dtype=object),\n",
       " 'params': [{'max_depth': 1, 'min_samples_split': 5},\n",
       "  {'max_depth': 1, 'min_samples_split': 10},\n",
       "  {'max_depth': 1, 'min_samples_split': 100},\n",
       "  {'max_depth': 1, 'min_samples_split': 500},\n",
       "  {'max_depth': 5, 'min_samples_split': 5},\n",
       "  {'max_depth': 5, 'min_samples_split': 10},\n",
       "  {'max_depth': 5, 'min_samples_split': 100},\n",
       "  {'max_depth': 5, 'min_samples_split': 500},\n",
       "  {'max_depth': 10, 'min_samples_split': 5},\n",
       "  {'max_depth': 10, 'min_samples_split': 10},\n",
       "  {'max_depth': 10, 'min_samples_split': 100},\n",
       "  {'max_depth': 10, 'min_samples_split': 500},\n",
       "  {'max_depth': 50, 'min_samples_split': 5},\n",
       "  {'max_depth': 50, 'min_samples_split': 10},\n",
       "  {'max_depth': 50, 'min_samples_split': 100},\n",
       "  {'max_depth': 50, 'min_samples_split': 500}],\n",
       " 'split0_test_score': array([0.55816006, 0.55816006, 0.55816006, 0.55816006, 0.62409028,\n",
       "        0.62409028, 0.62409028, 0.6248641 , 0.593107  , 0.59686401,\n",
       "        0.61072115, 0.61875375, 0.52061249, 0.52803672, 0.56360422,\n",
       "        0.5981114 ]),\n",
       " 'split1_test_score': array([0.55354734, 0.55354734, 0.55354734, 0.55354734, 0.62112389,\n",
       "        0.62119013, 0.62112389, 0.62112389, 0.60175663, 0.60105422,\n",
       "        0.61350498, 0.62228608, 0.53237185, 0.53172663, 0.56979289,\n",
       "        0.60531852]),\n",
       " 'split2_test_score': array([0.54603619, 0.54603619, 0.54603619, 0.54603619, 0.6053496 ,\n",
       "        0.6053496 , 0.60534865, 0.60534865, 0.59287125, 0.59215261,\n",
       "        0.60209506, 0.6064406 , 0.52837077, 0.53503459, 0.56741089,\n",
       "        0.60166901]),\n",
       " 'split3_test_score': array([0.55890698, 0.55890698, 0.55890698, 0.55890698, 0.6241684 ,\n",
       "        0.6241684 , 0.62476729, 0.62476729, 0.59085503, 0.58951137,\n",
       "        0.60095648, 0.61200495, 0.5207692 , 0.51853433, 0.56596459,\n",
       "        0.60025384]),\n",
       " 'split4_test_score': array([0.5583038 , 0.5583038 , 0.5583038 , 0.5583038 , 0.61609112,\n",
       "        0.61609112, 0.61609112, 0.61627708, 0.59193761, 0.59138728,\n",
       "        0.60115828, 0.61108665, 0.5269782 , 0.53198885, 0.56896696,\n",
       "        0.59385325]),\n",
       " 'mean_test_score': array([0.55499087, 0.55499087, 0.55499087, 0.55499087, 0.61816466,\n",
       "        0.6181779 , 0.61828425, 0.6184762 , 0.5941055 , 0.5941939 ,\n",
       "        0.60568719, 0.6141144 , 0.5258205 , 0.52906422, 0.56714791,\n",
       "        0.5998412 ]),\n",
       " 'std_test_score': array([0.00487084, 0.00487084, 0.00487084, 0.00487084, 0.00704898,\n",
       "        0.00705459, 0.00715462, 0.00727409, 0.00390706, 0.00419913,\n",
       "        0.0053339 , 0.00567105, 0.0045476 , 0.00571352, 0.00220599,\n",
       "        0.00380421]),\n",
       " 'rank_test_score': array([11, 11, 11, 11,  4,  3,  2,  1,  9,  8,  6,  5, 16, 15, 10,  7],\n",
       "       dtype=int32)}"
      ]
     },
     "execution_count": 179,
     "metadata": {},
     "output_type": "execute_result"
    }
   ],
   "source": [
    "clf_f2.cv_results_"
   ]
  },
  {
   "cell_type": "code",
   "execution_count": 184,
   "metadata": {},
   "outputs": [
    {
     "data": {
      "text/plain": [
       "DecisionTreeClassifier(max_depth=5, min_samples_split=500)"
      ]
     },
     "execution_count": 184,
     "metadata": {},
     "output_type": "execute_result"
    }
   ],
   "source": [
    "clf_f2.best_estimator_"
   ]
  },
  {
   "cell_type": "code",
   "execution_count": 185,
   "metadata": {},
   "outputs": [
    {
     "data": {
      "text/plain": [
       "0.6184762039853325"
      ]
     },
     "execution_count": 185,
     "metadata": {},
     "output_type": "execute_result"
    }
   ],
   "source": [
    "clf_f2.best_score_"
   ]
  },
  {
   "cell_type": "code",
   "execution_count": 186,
   "metadata": {},
   "outputs": [
    {
     "data": {
      "text/plain": [
       "{'max_depth': 5, 'min_samples_split': 500}"
      ]
     },
     "execution_count": 186,
     "metadata": {},
     "output_type": "execute_result"
    }
   ],
   "source": [
    "clf_f2.best_params_"
   ]
  },
  {
   "cell_type": "code",
   "execution_count": null,
   "metadata": {},
   "outputs": [],
   "source": []
  }
 ],
 "metadata": {
  "colab": {
   "collapsed_sections": [],
   "name": "Assignment_DT_Instructions.ipynb",
   "provenance": []
  },
  "kernelspec": {
   "display_name": "Python 3",
   "language": "python",
   "name": "python3"
  },
  "language_info": {
   "codemirror_mode": {
    "name": "ipython",
    "version": 3
   },
   "file_extension": ".py",
   "mimetype": "text/x-python",
   "name": "python",
   "nbconvert_exporter": "python",
   "pygments_lexer": "ipython3",
   "version": "3.7.6"
  }
 },
 "nbformat": 4,
 "nbformat_minor": 4
}
